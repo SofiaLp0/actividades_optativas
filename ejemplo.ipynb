{
 "cells": [
  {
   "cell_type": "markdown",
   "metadata": {},
   "source": [
    "# Mi primer Notebook!"
   ]
  },
  {
   "cell_type": "markdown",
   "metadata": {},
   "source": [
    "2do B. López Reguera Sofía"
   ]
  },
  {
   "cell_type": "code",
   "execution_count": 5,
   "metadata": {},
   "outputs": [
    {
     "name": "stdout",
     "output_type": "stream",
     "text": [
      "Hola Mundo\n"
     ]
    }
   ],
   "source": [
    "print(\"Hola Mundo\")"
   ]
  },
  {
   "cell_type": "markdown",
   "metadata": {},
   "source": [
    "## Mis primeros descriptivos con Pandas"
   ]
  },
  {
   "cell_type": "markdown",
   "metadata": {},
   "source": [
    "Importa la librería **pandas** y la asigna al alias **pd** para facilitar su uso en el código."
   ]
  },
  {
   "cell_type": "code",
   "execution_count": 13,
   "metadata": {},
   "outputs": [],
   "source": [
    "# Importa la librería pandas y la asigna al alias 'pd' para facilitar su uso.\n",
    "import pandas as pd"
   ]
  },
  {
   "cell_type": "markdown",
   "metadata": {},
   "source": [
    "Crea un diccionario con datos y lo convierte en un DataFrame usando pandas."
   ]
  },
  {
   "cell_type": "code",
   "execution_count": 14,
   "metadata": {},
   "outputs": [],
   "source": [
    "# Crea un diccionario llamado 'datos' con listas de edades y pesos.\n",
    "datos = {\n",
    "    'edad': [8, 9, 10, 11, 12],  # Lista de edades.\n",
    "    'peso': [30, 32, 35, 37, 40]  # Lista de pesos.\n",
    "}\n",
    "\n",
    "# Convierte el diccionario 'datos' en un DataFrame de pandas y lo asigna a 'df'.\n",
    "df = pd.DataFrame(datos)"
   ]
  },
  {
   "cell_type": "markdown",
   "metadata": {},
   "source": [
    "Calcula y muestra la media y desviación típica de edad y peso en el DataFrame df."
   ]
  },
  {
   "cell_type": "code",
   "execution_count": 15,
   "metadata": {},
   "outputs": [
    {
     "name": "stdout",
     "output_type": "stream",
     "text": [
      "Media de Edad: 10.0\n",
      "Desviación Típica de Edad: 1.5811388300841898\n",
      "Media de Peso: 34.8\n",
      "Desviación Típica de Peso: 3.9623225512317903\n"
     ]
    }
   ],
   "source": [
    "# Calcula la media (promedio) de la columna 'edad' del DataFrame 'df' y la asigna a 'media_edad'.\n",
    "media_edad = df['edad'].mean()\n",
    "\n",
    "# Calcula la desviación típica (desviación estándar) de la columna 'edad' y la asigna a 'desviacion_tipica_edad'.\n",
    "desviacion_tipica_edad = df['edad'].std()\n",
    "\n",
    "# Calcula la media (promedio) de la columna 'peso' del DataFrame 'df' y la asigna a 'media_peso'.\n",
    "media_peso = df['peso'].mean()\n",
    "\n",
    "# Calcula la desviación típica (desviación estándar) de la columna 'peso' y la asigna a 'desviacion_tipica_peso'.\n",
    "desviacion_tipica_peso = df['peso'].std()\n",
    "\n",
    "# Imprime la media de la edad.\n",
    "print(\"Media de Edad:\", media_edad)\n",
    "\n",
    "# Imprime la desviación típica de la edad.\n",
    "print(\"Desviación Típica de Edad:\", desviacion_tipica_edad)\n",
    "\n",
    "# Imprime la media del peso.\n",
    "print(\"Media de Peso:\", media_peso)\n",
    "\n",
    "# Imprime la desviación típica del peso.\n",
    "print(\"Desviación Típica de Peso:\", desviacion_tipica_peso)"
   ]
  }
 ],
 "metadata": {
  "kernelspec": {
   "display_name": "Python 3",
   "language": "python",
   "name": "python3"
  },
  "language_info": {
   "codemirror_mode": {
    "name": "ipython",
    "version": 3
   },
   "file_extension": ".py",
   "mimetype": "text/x-python",
   "name": "python",
   "nbconvert_exporter": "python",
   "pygments_lexer": "ipython3",
   "version": "3.11.9"
  }
 },
 "nbformat": 4,
 "nbformat_minor": 2
}
